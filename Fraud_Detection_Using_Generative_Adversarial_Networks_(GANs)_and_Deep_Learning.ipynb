{
  "cells": [
    {
      "cell_type": "markdown",
      "metadata": {
        "id": "view-in-github",
        "colab_type": "text"
      },
      "source": [
        "<a href=\"https://colab.research.google.com/github/Joothis/Blockchain-Based-Assert-Tracking-System/blob/main/Fraud_Detection_Using_Generative_Adversarial_Networks_(GANs)_and_Deep_Learning.ipynb\" target=\"_parent\"><img src=\"https://colab.research.google.com/assets/colab-badge.svg\" alt=\"Open In Colab\"/></a>"
      ]
    },
    {
      "cell_type": "code",
      "execution_count": null,
      "metadata": {
        "id": "XcsrJ4T3oQGq"
      },
      "outputs": [],
      "source": [
        "# Install necessary libraries\n",
        "!pip install torch torchvision torchaudio transformers scikit-learn pandas numpy matplotlib seaborn optuna shap"
      ]
    },
    {
      "cell_type": "code",
      "source": [
        "import pandas as pd\n",
        "import numpy as np\n",
        "import torch\n",
        "import torch.nn as nn\n",
        "import torch.optim as optim\n",
        "import seaborn as sns\n",
        "import matplotlib.pyplot as plt\n",
        "from sklearn.model_selection import train_test_split\n",
        "from sklearn.preprocessing import StandardScaler, LabelEncoder\n",
        "from sklearn.metrics import classification_report, roc_auc_score"
      ],
      "metadata": {
        "id": "E5TuWhoGLmgL"
      },
      "execution_count": 2,
      "outputs": []
    },
    {
      "cell_type": "markdown",
      "source": [
        "**Step 2: Load & Preprocess Data**\n",
        "\n",
        "\n",
        "\n",
        "\n",
        "\n"
      ],
      "metadata": {
        "id": "r5iRUISoMzfK"
      }
    },
    {
      "cell_type": "code",
      "source": [
        "from google.colab import drive\n",
        "drive.mount('/content/drive')\n",
        "df = pd.read_csv('/content/drive/MyDrive/Project/Fraud_Deduction_Dataset.csv')\n"
      ],
      "metadata": {
        "colab": {
          "base_uri": "https://localhost:8080/"
        },
        "id": "N47P_JgRLxUy",
        "outputId": "b7d73241-ad63-4a86-d3f2-5825364f8e9e"
      },
      "execution_count": 4,
      "outputs": [
        {
          "output_type": "stream",
          "name": "stdout",
          "text": [
            "Mounted at /content/drive\n"
          ]
        }
      ]
    },
    {
      "cell_type": "code",
      "source": [
        "df.head()\n",
        "df.info()\n",
        "df.describe()\n",
        "df.isnull().sum()  # Check missing values\n"
      ],
      "metadata": {
        "colab": {
          "base_uri": "https://localhost:8080/",
          "height": 741
        },
        "id": "PQcA1zTQMdgU",
        "outputId": "13111e61-c0ad-4487-d625-6b2b403e8c56"
      },
      "execution_count": 5,
      "outputs": [
        {
          "output_type": "stream",
          "name": "stdout",
          "text": [
            "<class 'pandas.core.frame.DataFrame'>\n",
            "RangeIndex: 6362620 entries, 0 to 6362619\n",
            "Data columns (total 11 columns):\n",
            " #   Column          Dtype  \n",
            "---  ------          -----  \n",
            " 0   step            int64  \n",
            " 1   type            object \n",
            " 2   amount          float64\n",
            " 3   nameOrig        object \n",
            " 4   oldbalanceOrg   float64\n",
            " 5   newbalanceOrig  float64\n",
            " 6   nameDest        object \n",
            " 7   oldbalanceDest  float64\n",
            " 8   newbalanceDest  float64\n",
            " 9   isFraud         int64  \n",
            " 10  isFlaggedFraud  int64  \n",
            "dtypes: float64(5), int64(3), object(3)\n",
            "memory usage: 534.0+ MB\n"
          ]
        },
        {
          "output_type": "execute_result",
          "data": {
            "text/plain": [
              "step              0\n",
              "type              0\n",
              "amount            0\n",
              "nameOrig          0\n",
              "oldbalanceOrg     0\n",
              "newbalanceOrig    0\n",
              "nameDest          0\n",
              "oldbalanceDest    0\n",
              "newbalanceDest    0\n",
              "isFraud           0\n",
              "isFlaggedFraud    0\n",
              "dtype: int64"
            ],
            "text/html": [
              "<div>\n",
              "<style scoped>\n",
              "    .dataframe tbody tr th:only-of-type {\n",
              "        vertical-align: middle;\n",
              "    }\n",
              "\n",
              "    .dataframe tbody tr th {\n",
              "        vertical-align: top;\n",
              "    }\n",
              "\n",
              "    .dataframe thead th {\n",
              "        text-align: right;\n",
              "    }\n",
              "</style>\n",
              "<table border=\"1\" class=\"dataframe\">\n",
              "  <thead>\n",
              "    <tr style=\"text-align: right;\">\n",
              "      <th></th>\n",
              "      <th>0</th>\n",
              "    </tr>\n",
              "  </thead>\n",
              "  <tbody>\n",
              "    <tr>\n",
              "      <th>step</th>\n",
              "      <td>0</td>\n",
              "    </tr>\n",
              "    <tr>\n",
              "      <th>type</th>\n",
              "      <td>0</td>\n",
              "    </tr>\n",
              "    <tr>\n",
              "      <th>amount</th>\n",
              "      <td>0</td>\n",
              "    </tr>\n",
              "    <tr>\n",
              "      <th>nameOrig</th>\n",
              "      <td>0</td>\n",
              "    </tr>\n",
              "    <tr>\n",
              "      <th>oldbalanceOrg</th>\n",
              "      <td>0</td>\n",
              "    </tr>\n",
              "    <tr>\n",
              "      <th>newbalanceOrig</th>\n",
              "      <td>0</td>\n",
              "    </tr>\n",
              "    <tr>\n",
              "      <th>nameDest</th>\n",
              "      <td>0</td>\n",
              "    </tr>\n",
              "    <tr>\n",
              "      <th>oldbalanceDest</th>\n",
              "      <td>0</td>\n",
              "    </tr>\n",
              "    <tr>\n",
              "      <th>newbalanceDest</th>\n",
              "      <td>0</td>\n",
              "    </tr>\n",
              "    <tr>\n",
              "      <th>isFraud</th>\n",
              "      <td>0</td>\n",
              "    </tr>\n",
              "    <tr>\n",
              "      <th>isFlaggedFraud</th>\n",
              "      <td>0</td>\n",
              "    </tr>\n",
              "  </tbody>\n",
              "</table>\n",
              "</div><br><label><b>dtype:</b> int64</label>"
            ]
          },
          "metadata": {},
          "execution_count": 5
        }
      ]
    },
    {
      "cell_type": "code",
      "source": [
        "for col in df.select_dtypes(include=['object']).columns:\n",
        "    df[col] = LabelEncoder().fit_transform(df[col])\n"
      ],
      "metadata": {
        "id": "7_vI0a6cMdpi"
      },
      "execution_count": 7,
      "outputs": []
    },
    {
      "cell_type": "code",
      "source": [
        "print(df.columns)\n"
      ],
      "metadata": {
        "colab": {
          "base_uri": "https://localhost:8080/"
        },
        "id": "5y7KfIM2Sy0M",
        "outputId": "9b887811-0ab1-4872-e02f-eef9822cbefb"
      },
      "execution_count": 11,
      "outputs": [
        {
          "output_type": "stream",
          "name": "stdout",
          "text": [
            "Index(['step', 'type', 'amount', 'nameOrig', 'oldbalanceOrg', 'newbalanceOrig',\n",
            "       'nameDest', 'oldbalanceDest', 'newbalanceDest', 'isFraud',\n",
            "       'isFlaggedFraud'],\n",
            "      dtype='object')\n"
          ]
        }
      ]
    },
    {
      "cell_type": "code",
      "source": [
        "df.rename(columns={'isFraud': 'fraud_label'}, inplace=True)\n",
        "\n",
        "scaler = StandardScaler()\n",
        "scaled_features = scaler.fit_transform(df.drop(columns=['fraud_label']))\n",
        "df_scaled = pd.DataFrame(scaled_features, columns=df.columns[:-1])\n",
        "df_scaled['fraud_label'] = df['fraud_label']\n"
      ],
      "metadata": {
        "id": "mAPnh7-1Mdyx"
      },
      "execution_count": 12,
      "outputs": []
    },
    {
      "cell_type": "markdown",
      "source": [
        "Step 3: Address Imbalance using **GANs**"
      ],
      "metadata": {
        "id": "Hsep0UEfOAZP"
      }
    },
    {
      "cell_type": "code",
      "source": [
        "fraud_df = df_scaled[df_scaled['fraud_label'] == 1]\n",
        "non_fraud_df = df_scaled[df_scaled['fraud_label'] == 0]\n",
        "\n",
        "X_train, X_test, y_train, y_test = train_test_split(df_scaled.drop(columns=['fraud_label']), df_scaled['fraud_label'], test_size=0.2, random_state=42)"
      ],
      "metadata": {
        "id": "6ZPbv8KRMr8q"
      },
      "execution_count": 13,
      "outputs": []
    },
    {
      "cell_type": "code",
      "source": [
        "class Generator(nn.Module):\n",
        "    def __init__(self, input_dim, output_dim):\n",
        "        super(Generator, self).__init__()\n",
        "        self.model = nn.Sequential(\n",
        "            nn.Linear(input_dim, 128),\n",
        "            nn.ReLU(),\n",
        "            nn.Linear(128, 256),\n",
        "            nn.ReLU(),\n",
        "            nn.Linear(256, output_dim),  # Ensure output_dim matches dataset features\n",
        "            nn.Sigmoid()  # Keeps values in range\n",
        "        )\n",
        "\n",
        "    def forward(self, z):\n",
        "        return self.model(z)\n",
        "\n",
        "# Fix latent_dim and output_dim\n",
        "latent_dim = 10  # Input noise vector size\n",
        "data_dim = X_train.shape[1]  # Ensure it matches the number of features\n",
        "\n",
        "generator = Generator(latent_dim, data_dim)\n"
      ],
      "metadata": {
        "id": "5bmbez0rMsAG"
      },
      "execution_count": 16,
      "outputs": []
    },
    {
      "cell_type": "code",
      "source": [
        "class Discriminator(nn.Module):\n",
        "    def __init__(self, input_dim):\n",
        "        super(Discriminator, self).__init__()\n",
        "        self.model = nn.Sequential(\n",
        "            nn.Linear(input_dim, 256),\n",
        "            nn.ReLU(),\n",
        "            nn.Linear(256, 128),\n",
        "            nn.ReLU(),\n",
        "            nn.Linear(128, 1),\n",
        "            nn.Sigmoid()\n",
        "        )\n",
        "\n",
        "    def forward(self, x):\n",
        "        return self.model(x)\n",
        "\n",
        "# Ensure discriminator input matches dataset feature count\n",
        "discriminator = Discriminator(data_dim)\n"
      ],
      "metadata": {
        "id": "iTpFHIarUWOZ"
      },
      "execution_count": 17,
      "outputs": []
    },
    {
      "cell_type": "code",
      "source": [
        "# Generate fake data\n",
        "z = torch.randn(64, latent_dim)  # Generate random noise\n",
        "fake_data = generator(z)  # Output of Generator\n",
        "\n",
        "# Get real fraud samples from dataset\n",
        "real_data = torch.tensor(X_train.sample(64).values, dtype=torch.float32)\n",
        "\n",
        "# Print shapes to verify match\n",
        "print(\"Fake Data Shape (Generator Output):\", fake_data.shape)  # Should be (64, 9)\n",
        "print(\"Real Data Shape (From Dataset):\", real_data.shape)  # Should be (64, 9)\n"
      ],
      "metadata": {
        "colab": {
          "base_uri": "https://localhost:8080/"
        },
        "id": "yWL_ypS3V-e4",
        "outputId": "2f3d531d-d2e6-4a4e-f740-e672994c327e"
      },
      "execution_count": 22,
      "outputs": [
        {
          "output_type": "stream",
          "name": "stdout",
          "text": [
            "Fake Data Shape (Generator Output): torch.Size([64, 9])\n",
            "Real Data Shape (From Dataset): torch.Size([64, 9])\n"
          ]
        }
      ]
    },
    {
      "cell_type": "code",
      "source": [
        "batch_size = 64\n",
        "\n",
        "for epoch in range(500):  # Number of training epochs\n",
        "    # Generate fake fraud samples\n",
        "    z = torch.randn(batch_size, latent_dim)  # Latent noise\n",
        "    fake_data = generator(z)  # Generator output\n",
        "\n",
        "    # Get real fraud transactions\n",
        "    real_data = torch.tensor(X_train.sample(batch_size).values, dtype=torch.float32)\n",
        "\n",
        "    # Labels\n",
        "    real_labels = torch.ones(batch_size, 1)  # Real transactions = 1\n",
        "    fake_labels = torch.zeros(batch_size, 1)  # Fake transactions = 0\n",
        "\n",
        "    # Train Discriminator\n",
        "    optimizer_D.zero_grad()\n",
        "    loss_real = criterion(discriminator(real_data), real_labels)\n",
        "    loss_fake = criterion(discriminator(fake_data.detach()), fake_labels)\n",
        "    loss_D = (loss_real + loss_fake) / 2\n",
        "    loss_D.backward()\n",
        "    optimizer_D.step()\n",
        "\n",
        "    # Train Generator\n",
        "    optimizer_G.zero_grad()\n",
        "    loss_G = criterion(discriminator(fake_data), real_labels)  # Wants to fool Discriminator\n",
        "    loss_G.backward()\n",
        "    optimizer_G.step()\n",
        "\n",
        "    if epoch % 100 == 0:\n",
        "        print(f'Epoch [{epoch}/500], Loss D: {loss_D.item()}, Loss G: {loss_G.item()}')\n"
      ],
      "metadata": {
        "colab": {
          "base_uri": "https://localhost:8080/"
        },
        "id": "-XD23SOvMsCi",
        "outputId": "6ca0ea2f-62b9-47c9-8ab9-f5eb1ff525b6"
      },
      "execution_count": 21,
      "outputs": [
        {
          "output_type": "stream",
          "name": "stdout",
          "text": [
            "Epoch [0/500], Loss D: 0.7061638832092285, Loss G: 0.67435222864151\n",
            "Epoch [100/500], Loss D: 0.2664042115211487, Loss G: 1.209202766418457\n",
            "Epoch [200/500], Loss D: 0.09855739027261734, Loss G: 1.9564127922058105\n",
            "Epoch [300/500], Loss D: 0.03382369875907898, Loss G: 2.9927637577056885\n",
            "Epoch [400/500], Loss D: 0.040283337235450745, Loss G: 3.432535171508789\n"
          ]
        }
      ]
    },
    {
      "cell_type": "markdown",
      "source": [
        " Step 4: Train Transformer-based Fraud Classifier"
      ],
      "metadata": {
        "id": "JMSM9le8OVu3"
      }
    },
    {
      "cell_type": "code",
      "source": [
        "print(\"Number of Features in X_train:\", X_train.shape[1])\n"
      ],
      "metadata": {
        "colab": {
          "base_uri": "https://localhost:8080/"
        },
        "id": "exiplFHHUimh",
        "outputId": "f7070e03-0a83-45d1-b46e-a7ae8c69766e"
      },
      "execution_count": 20,
      "outputs": [
        {
          "output_type": "stream",
          "name": "stdout",
          "text": [
            "Number of Features in X_train: 9\n"
          ]
        }
      ]
    },
    {
      "cell_type": "code",
      "source": [
        "generated_fraud = generator(torch.randn(1000, latent_dim)).detach().numpy()\n",
        "new_fraud_df = pd.DataFrame(generated_fraud, columns=df_scaled.columns[:-1])\n",
        "new_fraud_df['fraud_label'] = 1\n",
        "df_balanced = pd.concat([df_scaled, new_fraud_df], axis=0)\n"
      ],
      "metadata": {
        "id": "85wxEbgFMsFB"
      },
      "execution_count": 23,
      "outputs": []
    },
    {
      "cell_type": "code",
      "source": [
        "import tensorflow as tf\n",
        "from tensorflow.keras.models import Sequential\n",
        "from tensorflow.keras.layers import Dense, Dropout\n",
        "\n",
        "model = Sequential([\n",
        "    Dense(128, activation='relu', input_shape=(data_dim,)),\n",
        "    Dropout(0.3),\n",
        "    Dense(64, activation='relu'),\n",
        "    Dropout(0.3),\n",
        "    Dense(1, activation='sigmoid')\n",
        "])\n",
        "\n",
        "model.compile(optimizer='adam', loss='binary_crossentropy', metrics=['accuracy'])\n",
        "model.fit(X_train, y_train, epochs=30, batch_size=64, validation_data=(X_test, y_test))\n"
      ],
      "metadata": {
        "colab": {
          "base_uri": "https://localhost:8080/"
        },
        "id": "FL08hXnCOa04",
        "outputId": "5a3acbf0-d7b3-4917-deab-5b46888c8683"
      },
      "execution_count": null,
      "outputs": [
        {
          "output_type": "stream",
          "name": "stderr",
          "text": [
            "/usr/local/lib/python3.11/dist-packages/keras/src/layers/core/dense.py:87: UserWarning: Do not pass an `input_shape`/`input_dim` argument to a layer. When using Sequential models, prefer using an `Input(shape)` object as the first layer in the model instead.\n",
            "  super().__init__(activity_regularizer=activity_regularizer, **kwargs)\n"
          ]
        },
        {
          "output_type": "stream",
          "name": "stdout",
          "text": [
            "Epoch 1/30\n",
            "\u001b[1m79533/79533\u001b[0m \u001b[32m━━━━━━━━━━━━━━━━━━━━\u001b[0m\u001b[37m\u001b[0m \u001b[1m261s\u001b[0m 3ms/step - accuracy: 0.9990 - loss: 0.0067 - val_accuracy: 0.9994 - val_loss: 0.0031\n",
            "Epoch 2/30\n",
            "\u001b[1m79533/79533\u001b[0m \u001b[32m━━━━━━━━━━━━━━━━━━━━\u001b[0m\u001b[37m\u001b[0m \u001b[1m279s\u001b[0m 3ms/step - accuracy: 0.9993 - loss: 0.0038 - val_accuracy: 0.9993 - val_loss: 0.0032\n",
            "Epoch 3/30\n",
            "\u001b[1m79533/79533\u001b[0m \u001b[32m━━━━━━━━━━━━━━━━━━━━\u001b[0m\u001b[37m\u001b[0m \u001b[1m336s\u001b[0m 4ms/step - accuracy: 0.9994 - loss: 0.0034 - val_accuracy: 0.9994 - val_loss: 0.0028\n",
            "Epoch 4/30\n",
            "\u001b[1m79533/79533\u001b[0m \u001b[32m━━━━━━━━━━━━━━━━━━━━\u001b[0m\u001b[37m\u001b[0m \u001b[1m303s\u001b[0m 3ms/step - accuracy: 0.9994 - loss: 0.0035 - val_accuracy: 0.9994 - val_loss: 0.0030\n",
            "Epoch 5/30\n",
            "\u001b[1m 1294/79533\u001b[0m \u001b[37m━━━━━━━━━━━━━━━━━━━━\u001b[0m \u001b[1m4:09\u001b[0m 3ms/step - accuracy: 0.9993 - loss: 0.0044"
          ]
        }
      ]
    },
    {
      "cell_type": "markdown",
      "source": [
        "Step 5: Model Evaluation"
      ],
      "metadata": {
        "id": "RS938ysPOvJn"
      }
    },
    {
      "cell_type": "code",
      "source": [
        "y_pred = model.predict(X_test)\n",
        "y_pred_classes = (y_pred > 0.5).astype(int)\n",
        "\n",
        "print(classification_report(y_test, y_pred_classes))\n",
        "print(\"ROC-AUC Score:\", roc_auc_score(y_test, y_pred))\n"
      ],
      "metadata": {
        "id": "jYZvbBbrOapB"
      },
      "execution_count": null,
      "outputs": []
    },
    {
      "cell_type": "markdown",
      "source": [
        "Step 6: Explainability using SHAP"
      ],
      "metadata": {
        "id": "xdz0y9RnOyrm"
      }
    },
    {
      "cell_type": "code",
      "source": [
        "import shap\n",
        "explainer = shap.Explainer(model, X_train)\n",
        "shap_values = explainer(X_test)\n",
        "shap.summary_plot(shap_values, X_test)\n"
      ],
      "metadata": {
        "id": "QCe21QaCOafv"
      },
      "execution_count": null,
      "outputs": []
    }
  ],
  "metadata": {
    "colab": {
      "provenance": [],
      "authorship_tag": "ABX9TyNp+Gs0AGhfrvwDvow7SgV3",
      "include_colab_link": true
    },
    "kernelspec": {
      "display_name": "Python 3",
      "name": "python3"
    },
    "language_info": {
      "name": "python"
    }
  },
  "nbformat": 4,
  "nbformat_minor": 0
}